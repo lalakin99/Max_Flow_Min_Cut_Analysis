{
  "nbformat": 4,
  "nbformat_minor": 0,
  "metadata": {
    "colab": {
      "provenance": [],
      "authorship_tag": "ABX9TyPHY8zFlp9Oup+HDV7V189G",
      "include_colab_link": true
    },
    "kernelspec": {
      "name": "python3",
      "display_name": "Python 3"
    },
    "language_info": {
      "name": "python"
    }
  },
  "cells": [
    {
      "cell_type": "markdown",
      "metadata": {
        "id": "view-in-github",
        "colab_type": "text"
      },
      "source": [
        "<a href=\"https://colab.research.google.com/github/lalakin99/Max_Flow_Min_Cut_Analysis/blob/main/HW1_LalAkin.ipynb\" target=\"_parent\"><img src=\"https://colab.research.google.com/assets/colab-badge.svg\" alt=\"Open In Colab\"/></a>"
      ]
    },
    {
      "cell_type": "markdown",
      "source": [
        "# **Homework 1 - Network Dynamics and Learning**\n",
        "\n"
      ],
      "metadata": {
        "id": "oz8koimPnX9Z"
      }
    },
    {
      "cell_type": "markdown",
      "source": [
        "My group mates that I collaborated with are Vida Ahmedy 301905, Faeze Saeedian 301304, Reza Barati 301309, Xiyang Zu 288740\n",
        "\n",
        "\n"
      ],
      "metadata": {
        "id": "q4Qmn4cgC8FD"
      }
    },
    {
      "cell_type": "code",
      "execution_count": null,
      "metadata": {
        "colab": {
          "base_uri": "https://localhost:8080/"
        },
        "id": "yV3eYWLSmqD4",
        "outputId": "9c4efd28-c558-4461-fb5b-3536bbf76d17"
      },
      "outputs": [
        {
          "output_type": "stream",
          "name": "stdout",
          "text": [
            "Mounted at /content/drive\n"
          ]
        }
      ],
      "source": [
        "from google.colab import drive\n",
        "drive.mount('/content/drive')"
      ]
    },
    {
      "cell_type": "code",
      "source": [
        "%cd /content/drive/MyDrive/NetworkLABS/hw1\n",
        "#I used my own path for this part, this is the the only part to modify when checking the code"
      ],
      "metadata": {
        "colab": {
          "base_uri": "https://localhost:8080/"
        },
        "id": "LqymntYAm0Qw",
        "outputId": "b96766b6-cd54-4f20-ec9d-ed3af08ce191"
      },
      "execution_count": null,
      "outputs": [
        {
          "output_type": "stream",
          "name": "stdout",
          "text": [
            "/content/drive/MyDrive/NetworkLABS/hw1\n"
          ]
        }
      ]
    },
    {
      "cell_type": "code",
      "source": [
        "import numpy as np\n",
        "import scipy as scipy\n",
        "import networkx as nx\n",
        "import matplotlib.pyplot as plt\n",
        "%matplotlib inline\n",
        "import cvxpy as cp"
      ],
      "metadata": {
        "id": "iRkKGRTJm4vE"
      },
      "execution_count": null,
      "outputs": []
    },
    {
      "cell_type": "markdown",
      "source": [
        "# *Question 1*\n",
        "\n"
      ],
      "metadata": {
        "id": "xTX8kz1nngDH"
      }
    },
    {
      "cell_type": "markdown",
      "source": [
        "Firstly the graph is drawn. Red labels denote each capacity value associated with corresponding link."
      ],
      "metadata": {
        "id": "bayGGvlmtWUF"
      }
    },
    {
      "cell_type": "code",
      "source": [
        "G = nx.DiGraph()\n",
        "G.add_edges_from([(0,1),(0,2),(2,3),(2,4),(1,4),(3,4)])\n",
        "\n",
        "pos = {0:[0,0], 1:[1,1], 2:[1,0], 3:[1,-1], 4:[2,0]}\n",
        "\n",
        "nx.draw_networkx_edge_labels(G,pos,edge_labels={(0,1):'3',\n",
        "(0,2):'3',(1,4):'2',(2,4):'2',\n",
        "(2,3):'3',(3,4):'1'},font_color='red')\n",
        "\n",
        "nx.draw(G, pos, with_labels = True)"
      ],
      "metadata": {
        "colab": {
          "base_uri": "https://localhost:8080/",
          "height": 406
        },
        "id": "fYJNrrHOtV7u",
        "outputId": "53ce2f9f-f249-474c-d1bd-fe4e41de68c7"
      },
      "execution_count": null,
      "outputs": [
        {
          "output_type": "display_data",
          "data": {
            "text/plain": [
              "<Figure size 640x480 with 1 Axes>"
            ],
            "image/png": "[encoded data removed]"
          },
          "metadata": {}
        }
      ]
    },
    {
      "cell_type": "markdown",
      "source": [
        "Graphically, (o,a,b,c,d) corresponds to respectively (0,1,2,3,4)"
      ],
      "metadata": {
        "id": "rhNt3G1UJS2U"
      }
    },
    {
      "cell_type": "markdown",
      "source": [
        "*a)* For the first question, the problem is to find the minimum aggregate capacity that can be removed for no feasible flow from o to d (in my case 0 to 4) to exist. This mean we have to find in the minimum cut definition of a problem, how many units of flow can be sent, so that all of the reverse links from the final steps of a Ford Fulkerson Algorithm to be all going from 4 to 0, and for there to be no links going from 0 to 4 to still be feasible. To solve this, I first of all implemented the Maximum Flow problem, and then I double checked my findings by a Min Cut problem. As it can be seen, both of the problems have the same result, 5, as maximum throughput that can be sent from o to d."
      ],
      "metadata": {
        "id": "xe6ddEHvwojC"
      }
    },
    {
      "cell_type": "code",
      "source": [
        "G[0][1]['capacity'] = 3\n",
        "G[0][2]['capacity'] = 3\n",
        "G[1][4]['capacity'] = 2\n",
        "G[3][4]['capacity'] = 1\n",
        "G[2][3]['capacity'] = 3\n",
        "G[2][4]['capacity'] = 2\n",
        "#defined capacity values for each edge, so that we can use the maximum flow algorithm\n",
        "nx.algorithms.flow.maximum_flow(G,0,4)"
      ],
      "metadata": {
        "id": "iWUtGj5_wm3I",
        "colab": {
          "base_uri": "https://localhost:8080/"
        },
        "outputId": "8e026d40-95cd-47c2-faa7-e88eac294989"
      },
      "execution_count": null,
      "outputs": [
        {
          "output_type": "execute_result",
          "data": {
            "text/plain": [
              "(5, {0: {1: 2, 2: 3}, 1: {4: 2}, 2: {3: 1, 4: 2}, 3: {4: 1}, 4: {}})"
            ]
          },
          "metadata": {},
          "execution_count": 5
        }
      ]
    },
    {
      "cell_type": "code",
      "source": [
        "#the min cut and max flow duality is tested\n",
        "nx.algorithms.flow.minimum_cut(G,0,4)"
      ],
      "metadata": {
        "colab": {
          "base_uri": "https://localhost:8080/"
        },
        "id": "IEoqf9zSI-Qw",
        "outputId": "6cb2b0f8-bd86-4c5f-e89a-dceee039904b"
      },
      "execution_count": null,
      "outputs": [
        {
          "output_type": "execute_result",
          "data": {
            "text/plain": [
              "(5, ({0, 1, 2, 3}, {4}))"
            ]
          },
          "metadata": {},
          "execution_count": 6
        }
      ]
    },
    {
      "cell_type": "code",
      "source": [
        "GG = nx.DiGraph()\n",
        "GG.add_edges_from([(0,1),(0,2),(2,3),(2,4),(1,4),(3,4)])\n",
        "\n",
        "pos = {0:[0,0], 1:[1,1], 2:[1,0], 3:[1,-1], 4:[2,0]}\n",
        "\n",
        "nx.draw_networkx_edge_labels(GG,pos,edge_labels={(0,1):'2',\n",
        "(0,2):'3',(1,4):'2',(2,4):'2',\n",
        "(2,3):'1',(3,4):'1'},font_color='blue')\n",
        "\n",
        "nx.draw(GG, pos, with_labels = True)"
      ],
      "metadata": {
        "colab": {
          "base_uri": "https://localhost:8080/",
          "height": 406
        },
        "id": "LF_nl_UvKmwm",
        "outputId": "7b95e58c-25a6-4999-8c63-51264a413715"
      },
      "execution_count": null,
      "outputs": [
        {
          "output_type": "display_data",
          "data": {
            "text/plain": [
              "<Figure size 640x480 with 1 Axes>"
            ],
            "image/png": "[encoded data removed]"
          },
          "metadata": {}
        }
      ]
    },
    {
      "cell_type": "markdown",
      "source": [
        "This graph shows how many units of flow has been sent through each link. As it can be seen, 5 units of inflow come to the destination node."
      ],
      "metadata": {
        "id": "ATsihI4LK7GV"
      }
    },
    {
      "cell_type": "markdown",
      "source": [
        "From this result we also see that the partition set of Min Cut is, 0, 1, 2, 3 vs. 4."
      ],
      "metadata": {
        "id": "VxHUBMZuJGpm"
      }
    },
    {
      "cell_type": "markdown",
      "source": [
        "b) I solved this part by hand, and the explanation details are given in my Homework Report.\n"
      ],
      "metadata": {
        "id": "XBNCvCFawtiV"
      }
    },
    {
      "cell_type": "markdown",
      "source": [
        "c)For this question we have to construct an algorithm that will add one unit of capacity to each possible link per iteration, and calculate the max flow result. Then by comparing the differences in the max flow values decides which addidtion is the best, then keeps adding more and more units of capacity until there is a relationship visible that one can plot as a function.\n"
      ],
      "metadata": {
        "id": "rYRY4G5ywxxZ"
      }
    },
    {
      "cell_type": "code",
      "source": [
        "GG = nx.DiGraph()\n",
        "GG.add_edges_from([(0,1),(0,2),(2,3),(2,4),(1,4),(3,4)])\n",
        "\n",
        "pos = {0:[0,0], 1:[1,1], 2:[1,0], 3:[1,-1], 4:[2,0]}\n",
        "\n",
        "GG[0][1]['capacity'] = 3\n",
        "GG[0][2]['capacity'] = 3\n",
        "GG[1][4]['capacity'] = 3\n",
        "GG[3][4]['capacity'] = 1\n",
        "GG[2][3]['capacity'] = 3\n",
        "GG[2][4]['capacity'] = 2\n",
        "\n",
        "nx.algorithms.flow.maximum_flow(GG,0,4)"
      ],
      "metadata": {
        "id": "6LXQP3dJwnrx",
        "colab": {
          "base_uri": "https://localhost:8080/"
        },
        "outputId": "6f945527-c3be-4d3c-d30f-aeec7e67241a"
      },
      "execution_count": null,
      "outputs": [
        {
          "output_type": "execute_result",
          "data": {
            "text/plain": [
              "(6, {0: {1: 3, 2: 3}, 1: {4: 3}, 2: {3: 1, 4: 2}, 3: {4: 1}, 4: {}})"
            ]
          },
          "metadata": {},
          "execution_count": 11
        }
      ]
    },
    {
      "cell_type": "markdown",
      "source": [
        "I decided to add capacities one by one, and I observed only adding 1 unit of capacity to the link between 1 and 4 makes the max-flow 6."
      ],
      "metadata": {
        "id": "9XriwcqYY8Nn"
      }
    },
    {
      "cell_type": "code",
      "source": [
        "GG = nx.DiGraph()\n",
        "GG.add_edges_from([(0,1),(0,2),(2,3),(2,4),(1,4),(3,4)])\n",
        "\n",
        "pos = {0:[0,0], 1:[1,1], 2:[1,0], 3:[1,-1], 4:[2,0]}\n",
        "\n",
        "GG[0][1]['capacity'] = 3\n",
        "GG[0][2]['capacity'] = 3\n",
        "GG[1][4]['capacity'] = 3\n",
        "GG[3][4]['capacity'] = 1\n",
        "GG[2][3]['capacity'] = 3\n",
        "GG[2][4]['capacity'] = 2\n",
        "\n",
        "nx.algorithms.flow.maximum_flow(GG,0,4)"
      ],
      "metadata": {
        "colab": {
          "base_uri": "https://localhost:8080/"
        },
        "id": "jHJgrUVIZMKc",
        "outputId": "b97b4df1-3d8c-415e-d24f-c7c2fe5914fb"
      },
      "execution_count": null,
      "outputs": [
        {
          "output_type": "execute_result",
          "data": {
            "text/plain": [
              "(6, {0: {1: 3, 2: 3}, 1: {4: 3}, 2: {3: 0, 4: 3}, 3: {4: 0}, 4: {}})"
            ]
          },
          "metadata": {},
          "execution_count": 17
        }
      ]
    },
    {
      "cell_type": "markdown",
      "source": [
        "After the first step, adding one more unit of capacity to any of the links didnt change the max flow. Which can be becasue there are some differences to the links capacities on the same path, and only adding one more unit of capacity doesnt change the throughput. So I add it to 0 to 1."
      ],
      "metadata": {
        "id": "4tib-Qw_Zgse"
      }
    },
    {
      "cell_type": "code",
      "source": [
        "GG = nx.DiGraph()\n",
        "GG.add_edges_from([(0,1),(0,2),(2,3),(2,4),(1,4),(3,4)])\n",
        "\n",
        "pos = {0:[0,0], 1:[1,1], 2:[1,0], 3:[1,-1], 4:[2,0]}\n",
        "\n",
        "GG[0][1]['capacity'] = 4\n",
        "GG[0][2]['capacity'] = 3\n",
        "GG[1][4]['capacity'] = 4\n",
        "GG[3][4]['capacity'] = 1\n",
        "GG[2][3]['capacity'] = 3\n",
        "GG[2][4]['capacity'] = 2\n",
        "\n",
        "nx.algorithms.flow.maximum_flow(GG,0,4)"
      ],
      "metadata": {
        "colab": {
          "base_uri": "https://localhost:8080/"
        },
        "id": "Q1EKHnG3Zv14",
        "outputId": "336af231-02b0-4620-fe5e-84ed5ed52e15"
      },
      "execution_count": null,
      "outputs": [
        {
          "output_type": "execute_result",
          "data": {
            "text/plain": [
              "(7, {0: {1: 4, 2: 3}, 1: {4: 4}, 2: {3: 1, 4: 2}, 3: {4: 1}, 4: {}})"
            ]
          },
          "metadata": {},
          "execution_count": 24
        }
      ]
    },
    {
      "cell_type": "markdown",
      "source": [
        "Adding the 3rd unit of capacity, I see the only difference happens when I add to the 1 to 4 link again. For now I observe, if u (extra unit of capacity) = 0, throughput is 5. If u = 1 or 2, throughput is 6. If u = 3, t = 7."
      ],
      "metadata": {
        "id": "xGAL1sISaPhz"
      }
    },
    {
      "cell_type": "code",
      "source": [
        "GG = nx.DiGraph()\n",
        "GG.add_edges_from([(0,1),(0,2),(2,3),(2,4),(1,4),(3,4)])\n",
        "\n",
        "pos = {0:[0,0], 1:[1,1], 2:[1,0], 3:[1,-1], 4:[2,0]}\n",
        "\n",
        "GG[0][1]['capacity'] = 4\n",
        "GG[0][2]['capacity'] = 4\n",
        "GG[1][4]['capacity'] = 4\n",
        "GG[3][4]['capacity'] = 1\n",
        "GG[2][3]['capacity'] = 3\n",
        "GG[2][4]['capacity'] = 2\n",
        "\n",
        "nx.algorithms.flow.maximum_flow(GG,0,4)"
      ],
      "metadata": {
        "colab": {
          "base_uri": "https://localhost:8080/"
        },
        "id": "8-TIAsKEbKrP",
        "outputId": "97f3fdf9-0952-488d-bf0e-04903b12b367"
      },
      "execution_count": null,
      "outputs": [
        {
          "output_type": "execute_result",
          "data": {
            "text/plain": [
              "(7, {0: {1: 4, 2: 3}, 1: {4: 4}, 2: {3: 1, 4: 2}, 3: {4: 1}, 4: {}})"
            ]
          },
          "metadata": {},
          "execution_count": 31
        }
      ]
    },
    {
      "cell_type": "markdown",
      "source": [
        "Adding the 4th extra capacity also doesnt change anything, because of the reason mentioned before so I add it this time to 0 to 2. Updating also if u = 3 or 4, t = 7."
      ],
      "metadata": {
        "id": "RnLm7cj_bVEx"
      }
    },
    {
      "cell_type": "code",
      "source": [
        "GG = nx.DiGraph()\n",
        "GG.add_edges_from([(0,1),(0,2),(2,3),(2,4),(1,4),(3,4)])\n",
        "\n",
        "pos = {0:[0,0], 1:[1,1], 2:[1,0], 3:[1,-1], 4:[2,0]}\n",
        "\n",
        "GG[0][1]['capacity'] = 4\n",
        "GG[0][2]['capacity'] = 4\n",
        "GG[1][4]['capacity'] = 4\n",
        "GG[3][4]['capacity'] = 1\n",
        "GG[2][3]['capacity'] = 3\n",
        "GG[2][4]['capacity'] = 3\n",
        "\n",
        "nx.algorithms.flow.maximum_flow(GG,0,4)"
      ],
      "metadata": {
        "colab": {
          "base_uri": "https://localhost:8080/"
        },
        "id": "pXhbo_rmbh3b",
        "outputId": "cb196a36-f3a8-4e70-bb5c-d01d91913f8e"
      },
      "execution_count": null,
      "outputs": [
        {
          "output_type": "execute_result",
          "data": {
            "text/plain": [
              "(8, {0: {1: 4, 2: 4}, 1: {4: 4}, 2: {3: 1, 4: 3}, 3: {4: 1}, 4: {}})"
            ]
          },
          "metadata": {},
          "execution_count": 33
        }
      ]
    },
    {
      "cell_type": "markdown",
      "source": [
        "Now we can see the t value has became 8. We can see a relationship forming but I will keep going for some more iterations."
      ],
      "metadata": {
        "id": "E66bKWWJbvOT"
      }
    },
    {
      "cell_type": "code",
      "source": [
        "GG = nx.DiGraph()\n",
        "GG.add_edges_from([(0,1),(0,2),(2,3),(2,4),(1,4),(3,4)])\n",
        "\n",
        "pos = {0:[0,0], 1:[1,1], 2:[1,0], 3:[1,-1], 4:[2,0]}\n",
        "\n",
        "GG[0][1]['capacity'] = 5\n",
        "GG[0][2]['capacity'] = 4\n",
        "GG[1][4]['capacity'] = 5\n",
        "GG[3][4]['capacity'] = 1\n",
        "GG[2][3]['capacity'] = 3\n",
        "GG[2][4]['capacity'] = 3\n",
        "\n",
        "nx.algorithms.flow.maximum_flow(GG,0,4)"
      ],
      "metadata": {
        "colab": {
          "base_uri": "https://localhost:8080/"
        },
        "id": "-viQrFa9b2le",
        "outputId": "f778d58c-4dad-4ab3-c153-71ffacf295fc"
      },
      "execution_count": null,
      "outputs": [
        {
          "output_type": "execute_result",
          "data": {
            "text/plain": [
              "(9, {0: {1: 5, 2: 4}, 1: {4: 5}, 2: {3: 1, 4: 3}, 3: {4: 1}, 4: {}})"
            ]
          },
          "metadata": {},
          "execution_count": 35
        }
      ]
    },
    {
      "cell_type": "markdown",
      "source": [
        "I did two steps at once, so adding 6 units and 7 units both result in 9 as the t value."
      ],
      "metadata": {
        "id": "V2pN19nJb7eV"
      }
    },
    {
      "cell_type": "markdown",
      "source": [
        "The rest of the details will be done by hand and you can observe them in the homework report."
      ],
      "metadata": {
        "id": "zT9iwqmLcGu4"
      }
    },
    {
      "cell_type": "markdown",
      "source": [
        "# *Question 2*\n"
      ],
      "metadata": {
        "id": "ozdNPTIQwTkh"
      }
    },
    {
      "cell_type": "markdown",
      "source": [
        "Lets draw the relationships between the books and people first."
      ],
      "metadata": {
        "id": "hIsMDt0-wf5q"
      }
    },
    {
      "cell_type": "code",
      "source": [
        "T = nx.DiGraph()\n",
        "T.add_edges_from([(0,4),(0,5),(1,5),(1,6),(2,4),(2,7),(3,4),(3,5),(3,7)])\n",
        "\n",
        "pos = {0:[0,2], 1:[0,1], 2:[0,0], 3:[0,-1], 4:[1,2], 5:[1,1], 6:[1,0], 7:[1,-1]}\n",
        "\n",
        "nx.draw(T,pos, with_labels=True)"
      ],
      "metadata": {
        "colab": {
          "base_uri": "https://localhost:8080/",
          "height": 516
        },
        "id": "jfc0GcDzw0PA",
        "outputId": "0712a0b6-2e0b-444b-fe3b-b80a9e0cd2fa"
      },
      "execution_count": null,
      "outputs": [
        {
          "output_type": "display_data",
          "data": {
            "text/plain": [
              "<Figure size 640x480 with 1 Axes>"
            ],
            "image/png": "[encoded data removed]"
          },
          "metadata": {}
        }
      ]
    },
    {
      "cell_type": "markdown",
      "source": [
        "a) To exploit Max-Flow for this question, lets draw the graph again, this time with a source and a sink. To solve the max flow problem, I used the Ford-Fulkerson algorithm, and this time the capacity of each link is 1, what is expected as a result to say a perfect matching exists is seeing 4 as the result of the max flow problem."
      ],
      "metadata": {
        "id": "omFNzYZux_vX"
      }
    },
    {
      "cell_type": "code",
      "source": [
        "T1 = nx.DiGraph()\n",
        "T1.add_edges_from([(0,4),(0,5),(1,5),(1,6),(2,4),(2,7),(3,4),(3,5),(3,7),(8,0),(8,1),(8,2),(8,3),(4,9),(5,9),(6,9),(7,9)])\n",
        "\n",
        "pos = {0:[0,2], 1:[0,1], 2:[0,0], 3:[0,-1], 4:[1,2], 5:[1,1], 6:[1,0], 7:[1,-1],8:[-1,0],9:[2,0]}\n",
        "\n",
        "nx.draw(T1,pos, with_labels=True)"
      ],
      "metadata": {
        "colab": {
          "base_uri": "https://localhost:8080/",
          "height": 516
        },
        "id": "ukAMxOBwyUwr",
        "outputId": "3e24db5f-4da1-4272-8100-10e81ac2ddf6"
      },
      "execution_count": null,
      "outputs": [
        {
          "output_type": "display_data",
          "data": {
            "text/plain": [
              "<Figure size 640x480 with 1 Axes>"
            ],
            "image/png": "[encoded data removed]"
          },
          "metadata": {}
        }
      ]
    },
    {
      "cell_type": "code",
      "source": [
        "T1[8][0]['capacity'] = 1\n",
        "T1[8][1]['capacity'] = 1\n",
        "T1[8][2]['capacity'] = 1\n",
        "T1[8][3]['capacity'] = 1\n",
        "\n",
        "T1[0][4]['capacity'] = 1\n",
        "T1[0][5]['capacity'] = 1\n",
        "\n",
        "T1[1][5]['capacity'] = 1\n",
        "T1[1][6]['capacity'] = 1\n",
        "\n",
        "T1[2][4]['capacity'] = 1\n",
        "T1[2][7]['capacity'] = 1\n",
        "\n",
        "T1[3][5]['capacity'] = 1\n",
        "T1[3][7]['capacity'] = 1\n",
        "T1[3][4]['capacity'] = 1\n",
        "\n",
        "T1[4][9]['capacity'] = 1\n",
        "T1[5][9]['capacity'] = 1\n",
        "T1[6][9]['capacity'] = 1\n",
        "T1[7][9]['capacity'] = 1\n",
        "\n",
        "nx.algorithms.flow.maximum_flow(T1,8,9)"
      ],
      "metadata": {
        "colab": {
          "base_uri": "https://localhost:8080/"
        },
        "id": "MXc4UUvwJ6c0",
        "outputId": "d3cbd6a8-7771-4fea-89b0-6668c53d672b"
      },
      "execution_count": null,
      "outputs": [
        {
          "output_type": "execute_result",
          "data": {
            "text/plain": [
              "(4,\n",
              " {0: {4: 0, 5: 1},\n",
              "  4: {9: 1},\n",
              "  5: {9: 1},\n",
              "  1: {5: 0, 6: 1},\n",
              "  6: {9: 1},\n",
              "  2: {4: 1, 7: 0},\n",
              "  7: {9: 1},\n",
              "  3: {4: 0, 5: 0, 7: 1},\n",
              "  8: {0: 1, 1: 1, 2: 1, 3: 1},\n",
              "  9: {}})"
            ]
          },
          "metadata": {},
          "execution_count": 9
        }
      ]
    },
    {
      "cell_type": "markdown",
      "source": [
        "It can be seen that there exists a perfect matching. The source node has to distribute 4 units of flow 1 by 1 to each node it connects to, namely nodes 0, 1, 2, 3. Then these 4 nodes must choose only one of the links they have to send that one unit of flow. With this procedure, the people choose the books. Then, the 4 units pf flow get sent to the sink, 9th node, and we can see which is the perfect matching between people and books, each person only has one book that they took.\n",
        "The matchings of people and books are:\n",
        "\n",
        "*   Person 1 - Book 2\n",
        "*   Person 2 - Book 3\n",
        "*   Person 3 - Book 1\n",
        "*   Person 4 - Book 4"
      ],
      "metadata": {
        "id": "IZgx74j3L7ai"
      }
    },
    {
      "cell_type": "markdown",
      "source": [
        "I also wanted to double check for this question by implementing the simple way of finding if there is a perfect matching, and as it was found in the first step."
      ],
      "metadata": {
        "id": "2FbUglgkJ7UX"
      }
    },
    {
      "cell_type": "code",
      "source": [
        "my_match = {0: 5, 1: 6, 2: 4, 3: 7}\n",
        "nx.is_perfect_matching(T, my_match)"
      ],
      "metadata": {
        "colab": {
          "base_uri": "https://localhost:8080/"
        },
        "id": "Hp1UeoZnJ6r5",
        "outputId": "430faf2a-594a-4fc0-d1ee-4e0c1f8f3177"
      },
      "execution_count": null,
      "outputs": [
        {
          "output_type": "execute_result",
          "data": {
            "text/plain": [
              "True"
            ]
          },
          "metadata": {},
          "execution_count": 10
        }
      ]
    },
    {
      "cell_type": "markdown",
      "source": [
        "Therefore by both of the methods I can say there exists a perfect matching between the people and the books."
      ],
      "metadata": {
        "id": "-9ajllOnK5TL"
      }
    },
    {
      "cell_type": "code",
      "source": [
        "T11 = nx.DiGraph()\n",
        "T11.add_edges_from([(0,5),(1,6),(2,4),(3,7)])\n",
        "\n",
        "pos = {0:[0,2], 1:[0,1], 2:[0,0], 3:[0,-1], 4:[1,2], 5:[1,1], 6:[1,0], 7:[1,-1],8:[-1,0],9:[2,0]}\n",
        "\n",
        "nx.draw(T11,pos, with_labels=True, edge_color = 'red')"
      ],
      "metadata": {
        "colab": {
          "base_uri": "https://localhost:8080/",
          "height": 516
        },
        "id": "amBG8NQCbKAk",
        "outputId": "6e2dd4c3-9f33-49c6-da9e-2ffec4fc9344"
      },
      "execution_count": null,
      "outputs": [
        {
          "output_type": "display_data",
          "data": {
            "text/plain": [
              "<Figure size 640x480 with 1 Axes>"
            ],
            "image/png": "[encoded data removed]"
          },
          "metadata": {}
        }
      ]
    },
    {
      "cell_type": "markdown",
      "source": [
        "b)I solved this question by simply editing my graph, since now there are multiple copies of the books and every person can get an arbitrary number of books. I used Max-Flow Ford-Fulkerson again.\n"
      ],
      "metadata": {
        "id": "zIzgkzuZG3QF"
      }
    },
    {
      "cell_type": "code",
      "source": [
        "T2 = nx.DiGraph()\n",
        "\n",
        "T2.add_edges_from([(0,4),(0,5),(1,5),(1,6),(2,4),(2,7),(3,4),(3,5),(3,7),(8,0),(8,1),(8,2),(8,3),(4,9),(5,9),(6,9),(7,9)])\n",
        "\n",
        "pos = {0:[0,2], 1:[0,1], 2:[0,0], 3:[0,-1], 4:[1,2], 5:[1,1], 6:[1,0], 7:[1,-1],8:[-1,0],9:[2,0]}\n",
        "\n",
        "nx.draw(T2,pos, with_labels=True)"
      ],
      "metadata": {
        "id": "3CxycEk-G40P",
        "colab": {
          "base_uri": "https://localhost:8080/",
          "height": 516
        },
        "outputId": "df1680ff-99cc-4f56-f2a9-5ff8dfe00470"
      },
      "execution_count": null,
      "outputs": [
        {
          "output_type": "display_data",
          "data": {
            "text/plain": [
              "<Figure size 640x480 with 1 Axes>"
            ],
            "image/png": "[encoded data removed]"
          },
          "metadata": {}
        }
      ]
    },
    {
      "cell_type": "code",
      "source": [
        "#I selected a large enough (Big M) so that there is an arbitrary amount of flow that the network can have\n",
        "T2[8][0]['capacity'] = 100\n",
        "T2[8][1]['capacity'] = 100\n",
        "T2[8][2]['capacity'] = 100\n",
        "T2[8][3]['capacity'] = 100\n",
        "\n",
        "T2[0][4]['capacity'] = 1\n",
        "T2[0][5]['capacity'] = 1\n",
        "\n",
        "T2[1][5]['capacity'] = 1\n",
        "T2[1][6]['capacity'] = 1\n",
        "\n",
        "T2[2][4]['capacity'] = 1\n",
        "T2[2][7]['capacity'] = 1\n",
        "\n",
        "T2[3][5]['capacity'] = 1\n",
        "T2[3][7]['capacity'] = 1\n",
        "T2[3][4]['capacity'] = 1\n",
        "\n",
        "#here is where i edited to include the number of copies of the books to have those numbers as max capacity\n",
        "T2[4][9]['capacity'] = 2\n",
        "T2[5][9]['capacity'] = 3\n",
        "T2[6][9]['capacity'] = 2\n",
        "T2[7][9]['capacity'] = 2\n",
        "\n",
        "nx.algorithms.flow.maximum_flow(T2,8,9)"
      ],
      "metadata": {
        "colab": {
          "base_uri": "https://localhost:8080/"
        },
        "id": "JJzwC2ny_fok",
        "outputId": "daff1336-aede-47de-9de7-535e76285cab"
      },
      "execution_count": null,
      "outputs": [
        {
          "output_type": "execute_result",
          "data": {
            "text/plain": [
              "(8,\n",
              " {0: {4: 0, 5: 1},\n",
              "  4: {9: 2},\n",
              "  5: {9: 3},\n",
              "  1: {5: 1, 6: 1},\n",
              "  6: {9: 1},\n",
              "  2: {4: 1, 7: 1},\n",
              "  7: {9: 2},\n",
              "  3: {4: 1, 5: 1, 7: 1},\n",
              "  8: {0: 1, 1: 2, 2: 2, 3: 3},\n",
              "  9: {}})"
            ]
          },
          "metadata": {},
          "execution_count": 13
        }
      ]
    },
    {
      "cell_type": "markdown",
      "source": [
        "As from this result, we can understand that, all books (and their copies) have been bought, expect for the 3rd book. The 2nd copy of the 3rd book was not bought, because we can see that there is only one unit of flow going to 6th node. Exactly 8 books were matched in this case scenario. Also I solved this by hand to understand if my solution was correct and by logic I reached the same result, all copies of all books have people intrested in them, besides the second copy of the 3rd book."
      ],
      "metadata": {
        "id": "X6380nSAA5nW"
      }
    },
    {
      "cell_type": "markdown",
      "source": [
        "c)I solved by hand and the details of this solution is given in the report. However I wanted to check my intuition."
      ],
      "metadata": {
        "id": "xmtC46WkG5Kz"
      }
    },
    {
      "cell_type": "code",
      "source": [
        "T2 = nx.DiGraph()\n",
        "\n",
        "T2.add_edges_from([(0,4),(0,5),(1,5),(1,6),(2,4),(2,7),(3,4),(3,5),(3,7),(8,0),(8,1),(8,2),(8,3),(4,9),(5,9),(6,9),(7,9)])\n",
        "\n",
        "pos = {0:[0,2], 1:[0,1], 2:[0,0], 3:[0,-1], 4:[1,2], 5:[1,1], 6:[1,0], 7:[1,-1],8:[-1,0],9:[2,0]}\n",
        "\n",
        "T2[8][0]['capacity'] = 100\n",
        "T2[8][1]['capacity'] = 100\n",
        "T2[8][2]['capacity'] = 100\n",
        "T2[8][3]['capacity'] = 100\n",
        "\n",
        "T2[0][4]['capacity'] = 1\n",
        "T2[0][5]['capacity'] = 1\n",
        "\n",
        "T2[1][5]['capacity'] = 1\n",
        "T2[1][6]['capacity'] = 1\n",
        "\n",
        "T2[2][4]['capacity'] = 1\n",
        "T2[2][7]['capacity'] = 1\n",
        "\n",
        "T2[3][5]['capacity'] = 1\n",
        "T2[3][7]['capacity'] = 1\n",
        "T2[3][4]['capacity'] = 1\n",
        "\n",
        "#here is where i edited to include the number of copies of the books to have those numbers as max capacity\n",
        "T2[4][9]['capacity'] = 3\n",
        "T2[5][9]['capacity'] = 3\n",
        "T2[6][9]['capacity'] = 1\n",
        "T2[7][9]['capacity'] = 2\n",
        "\n",
        "nx.algorithms.flow.maximum_flow(T2,8,9)"
      ],
      "metadata": {
        "colab": {
          "base_uri": "https://localhost:8080/"
        },
        "id": "0cDGh-LXT3VI",
        "outputId": "315da554-ac8f-4395-8773-ad25bcfbb715"
      },
      "execution_count": null,
      "outputs": [
        {
          "output_type": "execute_result",
          "data": {
            "text/plain": [
              "(9,\n",
              " {0: {4: 1, 5: 1},\n",
              "  4: {9: 3},\n",
              "  5: {9: 3},\n",
              "  1: {5: 1, 6: 1},\n",
              "  6: {9: 1},\n",
              "  2: {4: 1, 7: 1},\n",
              "  7: {9: 2},\n",
              "  3: {4: 1, 5: 1, 7: 1},\n",
              "  8: {0: 2, 1: 2, 2: 2, 3: 3},\n",
              "  9: {}})"
            ]
          },
          "metadata": {},
          "execution_count": 4
        }
      ]
    },
    {
      "cell_type": "markdown",
      "source": [
        "As it is seen, the matching is now up to 9, and there is no extra demand."
      ],
      "metadata": {
        "id": "CYaP-FYjUKOl"
      }
    },
    {
      "cell_type": "markdown",
      "source": [
        "# *Question* *3*"
      ],
      "metadata": {
        "id": "zLjOye0dG7v0"
      }
    },
    {
      "cell_type": "code",
      "source": [
        "flow = scipy.io.loadmat('flow.mat')[\"flow\"].reshape(28,)\n",
        "capacities = scipy.io.loadmat('capacities.mat')[\"capacities\"].reshape(28,)\n",
        "B = scipy.io.loadmat('traffic.mat')[\"traffic\"]\n",
        "length = scipy.io.loadmat('traveltime.mat')[\"traveltime\"].reshape(28,)"
      ],
      "metadata": {
        "id": "n2vJCws88iUf"
      },
      "execution_count": null,
      "outputs": []
    },
    {
      "cell_type": "markdown",
      "source": [
        "For this question, first I upload the required values, and name them according to what they are.\n",
        "Then i draw the Highway Network of Los Angeles"
      ],
      "metadata": {
        "id": "H9IFU2DxDaTe"
      }
    },
    {
      "cell_type": "code",
      "source": [
        "L = nx.DiGraph()\n",
        "\n",
        "L.add_nodes_from(list(range(1, 18)))\n",
        "\n",
        "L.add_edges_from([\n",
        "(1, 2, {'weight': length[0], 'capacity': capacities[0]}),\n",
        "(2, 3, {'weight': length[1], 'capacity': capacities[1]}),\n",
        "(3, 4, {'weight': length[2], 'capacity': capacities[2]}),\n",
        "(4, 5, {'weight': length[3], 'capacity': capacities[3]}),\n",
        "(1, 6, {'weight': length[4], 'capacity': capacities[4]}),\n",
        "(6, 7, {'weight': length[5], 'capacity': capacities[5]}),\n",
        "(7, 8, {'weight': length[6], 'capacity': capacities[6]}),\n",
        "(8, 9, {'weight': length[7], 'capacity': capacities[7]}),\n",
        "(9, 13, {'weight': length[8], 'capacity': capacities[8]}),\n",
        "(2, 7, {'weight': length[9], 'capacity': capacities[9]}),\n",
        "(3, 8, {'weight': length[10], 'capacity': capacities[10]}),\n",
        "(3, 9, {'weight': length[11], 'capacity': capacities[11]}),\n",
        "(4, 9, {'weight': length[12], 'capacity': capacities[12]}),\n",
        "(5, 14, {'weight': length[13], 'capacity': capacities[13]}),\n",
        "(6, 10, {'weight': length[14], 'capacity': capacities[14]}),\n",
        "(10, 11, {'weight': length[15], 'capacity': capacities[15]}),\n",
        "(10, 15, {'weight': length[16], 'capacity': capacities[16]}),\n",
        "(7, 10, {'weight': length[17], 'capacity': capacities[17]}),\n",
        "(8, 11, {'weight': length[18], 'capacity': capacities[18]}),\n",
        "(9, 12, {'weight': length[19], 'capacity': capacities[19]}),\n",
        "(11, 12, {'weight': length[20], 'capacity': capacities[20]}),\n",
        "(12, 13, {'weight': length[21], 'capacity': capacities[21]}),\n",
        "(13, 14, {'weight': length[22], 'capacity': capacities[22]}),\n",
        "(11, 15, {'weight': length[23], 'capacity': capacities[23]}),\n",
        "(13, 17, {'weight': length[25], 'capacity': capacities[25]}),\n",
        "(14, 17, {'weight': length[25], 'capacity': capacities[25]}),\n",
        "(15, 16, {'weight': length[26], 'capacity': capacities[26]}),\n",
        "(16, 17, {'weight': length[27], 'capacity': capacities[27]}),\n",
        "])\n",
        "\n",
        "nx.draw(L, with_labels=True)"
      ],
      "metadata": {
        "id": "iWQLk-CSHBfh",
        "colab": {
          "base_uri": "https://localhost:8080/",
          "height": 516
        },
        "outputId": "76163b5d-f5a0-430b-d607-083277f5179c"
      },
      "execution_count": null,
      "outputs": [
        {
          "output_type": "display_data",
          "data": {
            "text/plain": [
              "<Figure size 640x480 with 1 Axes>"
            ],
            "image/png": "[encoded data removed]"
          },
          "metadata": {}
        }
      ]
    },
    {
      "cell_type": "markdown",
      "source": [
        "a) First question is to find the shortest path from node 1 to 17. I utilized the \"shortest_path\" method of NetworkX library for its ease and intuitive nature.\n"
      ],
      "metadata": {
        "id": "PJ1r6REWkyI6"
      }
    },
    {
      "cell_type": "code",
      "source": [
        "nx.shortest_path(L, source=1, target=17, weight='weight')"
      ],
      "metadata": {
        "colab": {
          "base_uri": "https://localhost:8080/"
        },
        "id": "YUpsjNLMkAuO",
        "outputId": "8168eb7d-1cfb-4e53-8987-cd154d0c8b47"
      },
      "execution_count": null,
      "outputs": [
        {
          "output_type": "execute_result",
          "data": {
            "text/plain": [
              "[1, 2, 3, 9, 13, 17]"
            ]
          },
          "metadata": {},
          "execution_count": 34
        }
      ]
    },
    {
      "cell_type": "markdown",
      "source": [
        "From the result we can see that the shortest path through this network is from 1 ➡ 2 ➡ 3 ➡ 9 ➡ 13 ➡ 17 also means in a zero traffic scenario, this path would be the quickest according to length since I used the \"length.mat\" as the weight matrix.\n",
        "\n"
      ],
      "metadata": {
        "id": "Ob2P2ouKlNDm"
      }
    },
    {
      "cell_type": "markdown",
      "source": [
        "b) Maximum Flow is found by also implementing a method of NetworkX, and the value for the max-flow is 22448.\n"
      ],
      "metadata": {
        "id": "nqtsXoQEmEre"
      }
    },
    {
      "cell_type": "code",
      "source": [
        "nx.algorithms.flow.maximum_flow(L, 1, 17)"
      ],
      "metadata": {
        "colab": {
          "base_uri": "https://localhost:8080/"
        },
        "id": "4DkngaCumD9m",
        "outputId": "b562d759-2b5f-42e6-b328-1a699a65d45f"
      },
      "execution_count": null,
      "outputs": [
        {
          "output_type": "execute_result",
          "data": {
            "text/plain": [
              "(22448,\n",
              " {1: {2: 8741, 6: 13707},\n",
              "  2: {3: 8741, 7: 0},\n",
              "  3: {4: 0, 8: 0, 9: 8741},\n",
              "  4: {5: 0, 9: 0},\n",
              "  5: {14: 0},\n",
              "  6: {7: 4624, 10: 9083},\n",
              "  7: {8: 4624, 10: 0},\n",
              "  8: {9: 4624, 11: 0},\n",
              "  9: {13: 6297, 12: 7068},\n",
              "  10: {11: 825, 15: 8258},\n",
              "  11: {12: 825, 15: 0},\n",
              "  12: {13: 7893},\n",
              "  13: {14: 5123, 17: 9067},\n",
              "  14: {17: 5123},\n",
              "  15: {16: 8258},\n",
              "  16: {17: 8258},\n",
              "  17: {}})"
            ]
          },
          "metadata": {},
          "execution_count": 35
        }
      ]
    },
    {
      "cell_type": "markdown",
      "source": [
        "c)The external inflow, $ν$, is equal to the Node-Link Incidence Matrix which in context of this problem is \"$B$\" (traffic.mat) times the flow vector $f$ (flow.mat) $Bf = ν$"
      ],
      "metadata": {
        "id": "Os4bJwjPmFgj"
      }
    },
    {
      "cell_type": "code",
      "source": [
        "n = B @ flow\n",
        "#this is very intuitive i rewrote the equation above\n",
        "print(n)"
      ],
      "metadata": {
        "id": "6xnZAUtvHDWh",
        "colab": {
          "base_uri": "https://localhost:8080/"
        },
        "outputId": "0888d938-20f6-469f-9cc9-15442a3531b0"
      },
      "execution_count": null,
      "outputs": [
        {
          "output_type": "stream",
          "name": "stdout",
          "text": [
            "[ 16282   9094  19448   4957   -746   4768    413     -2  -5671   1169\n",
            "     -5  -7131   -380  -7412  -7810  -3430 -23544]\n"
          ]
        }
      ]
    },
    {
      "cell_type": "markdown",
      "source": [
        "d) In this question, the social optimum with delay $\\tau_{e}(f_{e})$ is asked. We use this function as the cost function, i.e the cost to minimize.\n",
        "$$ \\sum_{e \\in \\varepsilon } f_{e}\\tau_{e}(f_{e}) = \\sum_{e \\in \\varepsilon }  \\frac{f_{e}l_{e}} {1 - \\frac{f_{e}} {C_{e}} } = \\sum_{e \\in \\varepsilon } \\left( \\frac{l_{e}C_{e}} {1 - \\frac{f_{e}} {C_{e}} } - l_{e}C_{e} \\right)$$"
      ],
      "metadata": {
        "id": "DYQinSt7mGWK"
      }
    },
    {
      "cell_type": "code",
      "source": [
        "#In here i transformed the above matrix into the exogenous inflow matrix with the required values\n",
        "ef = np.zeros(17)\n",
        "ef[1-1] = n[1-1]\n",
        "ef[17-1] = -n[1-1]\n",
        "print(ef)"
      ],
      "metadata": {
        "colab": {
          "base_uri": "https://localhost:8080/"
        },
        "id": "Ee4FP7bNp-tq",
        "outputId": "499d9427-1a9d-446d-a991-4392e4f2ca9f"
      },
      "execution_count": null,
      "outputs": [
        {
          "output_type": "stream",
          "name": "stdout",
          "text": [
            "[ 16282.      0.      0.      0.      0.      0.      0.      0.      0.\n",
            "      0.      0.      0.      0.      0.      0.      0. -16282.]\n"
          ]
        }
      ]
    },
    {
      "cell_type": "markdown",
      "source": [
        "This is the vector of the exogenous flow from this point onwards."
      ],
      "metadata": {
        "id": "jU1x4626dr92"
      }
    },
    {
      "cell_type": "code",
      "source": [
        "f = cp.Variable(28) #28 is the number of nodes, so we solve this problem for 28 variables\n",
        "#the cost function is the objective function of this minimization problem\n",
        "cost_func = cp.multiply(cp.multiply(length, capacities), cp.inv_pos(1 - f / capacities)) - cp.multiply(length, capacities)\n",
        "objective = cp.Minimize(sum(cost_func))\n",
        "#in here we define the constrains such as the exogenous inflow being equal to ef,\n",
        "#flow being non-negative and smaller or equal to the capacities\n",
        "constraints = [B @ f == ef, f >=0, f <= capacities]\n",
        "#problem definition\n",
        "prob = cp.Problem(objective, constraints)\n",
        "#optimal cost will be the outcome of the solution\n",
        "cost_opt = prob.solve()\n",
        "#the value of the 28 flow values\n",
        "flow_star1 = f.value\n",
        "print(flow_star1)\n",
        "print(\"Social optimum cost of this network is:\", cost_opt)\n"
      ],
      "metadata": {
        "colab": {
          "base_uri": "https://localhost:8080/"
        },
        "id": "XJZQkbNwdz8e",
        "outputId": "ccf7641c-6c52-4a82-90db-5f08537315ef"
      },
      "execution_count": null,
      "outputs": [
        {
          "output_type": "stream",
          "name": "stdout",
          "text": [
            "[6.45415744e+03 5.91942052e+03 2.99529242e+03 2.99529238e+03\n",
            " 9.82784256e+03 4.49705976e+03 2.89742905e+03 2.43597659e+03\n",
            " 3.04733195e+03 5.34736916e+02 2.45267900e-04 2.92412785e+03\n",
            " 4.69635735e-05 2.99529238e+03 5.33078280e+03 2.73086023e+03\n",
            " 4.73429019e+03 2.13436762e+03 4.61452707e+02 2.31277254e+03\n",
            " 3.19231288e+03 5.50508542e+03 2.31054037e+03 5.94563615e-05\n",
            " 6.24187700e+03 5.30583275e+03 4.73429025e+03 4.73429025e+03]\n",
            "Social optimum cost of this network is: 23835.484428892145\n"
          ]
        }
      ]
    },
    {
      "cell_type": "markdown",
      "source": [
        "e)For this question we have to find the Wardrop equilibrium by now assuming this as the cost function to minimize.\n",
        "$${\\sum_{e \\in \\varepsilon } \\int^{f{e}}_{0} \\tau_{e}(s) ds}$$"
      ],
      "metadata": {
        "id": "BAsWH6UAmHH8"
      }
    },
    {
      "cell_type": "code",
      "source": [
        "f = cp.Variable(28)\n",
        "#Since in this objective function there is an integral, i solved the integral by a website and this is the formulation below\n",
        "obj = cp.Minimize(sum(-cp.multiply(cp.multiply(capacities, length), cp.log(1-(f/capacities)))))\n",
        "constraints = [B @ f == ef, f >= 0, f <= capacities]\n",
        "prob = cp.Problem(obj, constraints)\n",
        "cost = prob.solve()\n",
        "warflow = f.value\n",
        "print(\"Wardrop equilibrium flow:\", f.value)\n",
        "#the cost of wardrop equlibrium is each flow on each link under this equlibrium and the delay\n",
        "delay = (length / (1 - (f.value/capacities)))\n",
        "wardrop_cost = np.sum(f.value*delay)\n",
        "print(f\"Wardrop equlibrium cost: {wardrop_cost}\")"
      ],
      "metadata": {
        "colab": {
          "base_uri": "https://localhost:8080/"
        },
        "id": "0L9SB-Ktp_Wc",
        "outputId": "0d8c5133-65a9-4a9b-9857-5d8d2246edea"
      },
      "execution_count": null,
      "outputs": [
        {
          "output_type": "stream",
          "name": "stdout",
          "text": [
            "Wardrop equilibrium flow: [6.53248337e+03 6.53248332e+03 2.20678778e+03 2.20678777e+03\n",
            " 9.74951658e+03 4.49336744e+03 2.71426782e+03 2.20386163e+03\n",
            " 3.34278618e+03 4.87658085e-05 1.88858694e+02 4.13683685e+03\n",
            " 8.62354860e-06 2.20678777e+03 5.25614914e+03 2.24738256e+03\n",
            " 4.78786625e+03 1.77909967e+03 6.99264884e+02 2.99791231e+03\n",
            " 2.94664743e+03 5.94455974e+03 2.50794079e+03 1.17424862e-05\n",
            " 6.77940513e+03 4.71472856e+03 4.78786626e+03 4.78786626e+03]\n",
            "Wardrop equlibrium cost: 24162.200476835103\n"
          ]
        }
      ]
    },
    {
      "cell_type": "markdown",
      "source": [
        "f)"
      ],
      "metadata": {
        "id": "zm3PgTrLmIF6"
      }
    },
    {
      "cell_type": "markdown",
      "source": [
        "To find the new Wardrop equilibrium with tolls, first I define the numerical way to reach the tolls. I use the social optimum flow value."
      ],
      "metadata": {
        "id": "a_St3be7Bwiv"
      }
    },
    {
      "cell_type": "code",
      "source": [
        "#omega is the toll value for each link dependent on the capacity and the existing flow on it depending on the social optimum flow\n",
        "omega = capacities * length * flow_star1 *1/(capacities - flow_star1)**2\n",
        "print(omega)"
      ],
      "metadata": {
        "colab": {
          "base_uri": "https://localhost:8080/"
        },
        "id": "mzITtzxhAFzc",
        "outputId": "5f4ad868-c047-4b11-f257-1c516936015b"
      },
      "execution_count": null,
      "outputs": [
        {
          "output_type": "stream",
          "name": "stdout",
          "text": [
            "[1.57316769e+00 1.68239759e-01 4.81099080e-02 9.71294806e-02\n",
            " 1.16225346e+00 4.04180084e-01 9.87431118e-02 5.18296255e-02\n",
            " 2.57426558e-01 5.59124116e-03 2.93996273e-09 7.52240079e-02\n",
            " 5.40902108e-10 1.16230570e-01 4.17850225e-01 7.44251977e-02\n",
            " 6.41112833e-02 1.64478680e-02 1.50089172e-03 1.36565720e-02\n",
            " 6.05563396e-02 2.41821516e-01 6.33841687e-02 3.42504815e-10\n",
            " 3.66131419e-01 2.48253134e-01 1.77909117e-01 4.68115309e-01]\n"
          ]
        }
      ]
    },
    {
      "cell_type": "markdown",
      "source": [
        "After this, I define a numerical problem to solve in CVXPY again with a modified cost function now."
      ],
      "metadata": {
        "id": "eGHeNGq8B9Os"
      }
    },
    {
      "cell_type": "code",
      "source": [
        "f = cp.Variable(28)\n",
        "#now the objective is not only the delay inside the integral but also the omega value, after solving the integral this is the equation resulting\n",
        "objective = cp.Minimize(sum(-cp.multiply(cp.multiply(capacities, length), cp.log(1 - f/capacities))+ cp.multiply(omega, f)))\n",
        "#flow constraints\n",
        "constraints = [B @ f == ef, f >= 0, f <= capacities]\n",
        "prob4 = cp.Problem(objective, constraints)\n",
        "wcostopt = prob4.solve()\n",
        "wtflow = f.value\n",
        "print(\"Wardrop equilibrium flow:\", wtflow)"
      ],
      "metadata": {
        "colab": {
          "base_uri": "https://localhost:8080/"
        },
        "id": "Cej92xlAB9u8",
        "outputId": "4ce879c5-d665-494e-c6c8-0dc5dd209090"
      },
      "execution_count": null,
      "outputs": [
        {
          "output_type": "stream",
          "name": "stdout",
          "text": [
            "Wardrop equilibrium flow: [6.45388465e+03 5.91937237e+03 2.99527894e+03 2.99527893e+03\n",
            " 9.82811531e+03 4.49714611e+03 2.89741254e+03 2.43597513e+03\n",
            " 3.04732326e+03 5.34512283e+02 2.80730737e-05 2.92409340e+03\n",
            " 5.38118064e-06 2.99527893e+03 5.33096920e+03 2.73087680e+03\n",
            " 4.73433825e+03 2.13424585e+03 4.61437436e+02 2.31274528e+03\n",
            " 3.19231423e+03 5.50505950e+03 2.31049277e+03 6.82902706e-06\n",
            " 6.24189000e+03 5.30577170e+03 4.73433826e+03 4.73433826e+03]\n"
          ]
        }
      ]
    },
    {
      "cell_type": "code",
      "source": [
        "print(f\"Social optimum cost: {cost_opt}\")\n",
        "print(f\"Wardrop equilibrium cost: {wardrop_cost}\")\n",
        "#now i define the social optimum cost function with the wardrop eq. flow\n",
        "print(f\"Wardrop equilibrium after introducing tolls: {wtflow @ (length/(1-(wtflow/capacities)))}\")"
      ],
      "metadata": {
        "colab": {
          "base_uri": "https://localhost:8080/"
        },
        "id": "drraEVrrUyo6",
        "outputId": "f8a48128-4136-4394-8781-5baaa524bbc8"
      },
      "execution_count": null,
      "outputs": [
        {
          "output_type": "stream",
          "name": "stdout",
          "text": [
            "Social optimum cost: 23835.484428892145\n",
            "Wardrop equilibrium cost: 24162.200476835103\n",
            "Wardrop equilibrium after introducing tolls: 23835.484341165567\n"
          ]
        }
      ]
    },
    {
      "cell_type": "markdown",
      "source": [
        "As we can observe from here, the introduction of tolls have reduced the Wardrop cost and equilized it to the social optimum."
      ],
      "metadata": {
        "id": "x6Q2cgbsWsB4"
      }
    },
    {
      "cell_type": "markdown",
      "source": [
        "g) $${\\displaystyle \\psi_{e}(f_{e}) = f_{e}(\\tau_{e}(f_{e}) − l_{e})}$$ is the new system cost function, so it is not just the travel time."
      ],
      "metadata": {
        "id": "ub-KlTcJmJEu"
      }
    },
    {
      "cell_type": "code",
      "source": [
        "f = cp.Variable(28)\n",
        "cost_func = sum((cp.multiply(cp.multiply(length, capacities), cp.inv_pos(1 - f / capacities)) - cp.multiply(length, capacities) - cp.multiply(f, length)))\n",
        "objective = cp.Minimize(cost_func)\n",
        "constraints = [B @ f == ef, f >=0, f <= capacities]\n",
        "prob = cp.Problem(objective, constraints)\n",
        "cost_optt = prob.solve()\n",
        "soflow_2 = f.value\n",
        "print(soflow_2)\n",
        "print(\"Social optimum cost of this network is:\", ( soflow_2 @ ((length/(1-(soflow_2/capacities))) - length)))"
      ],
      "metadata": {
        "colab": {
          "base_uri": "https://localhost:8080/"
        },
        "id": "1Xj1stpjmKM3",
        "outputId": "fae2681c-7f73-4525-9096-516aaedc0987"
      },
      "execution_count": null,
      "outputs": [
        {
          "output_type": "stream",
          "name": "stdout",
          "text": [
            "[6.46805587e+03 5.61796836e+03 3.29755326e+03 3.29755230e+03\n",
            " 9.81394413e+03 4.50161882e+03 3.00282644e+03 2.56415496e+03\n",
            " 2.91779179e+03 8.50087506e+02 2.23884797e-03 2.32041286e+03\n",
            " 9.62311872e-04 3.29755230e+03 5.31232531e+03 2.93148730e+03\n",
            " 4.72971790e+03 2.34887988e+03 4.38673724e+02 1.96677699e+03\n",
            " 3.37016081e+03 5.33693780e+03 2.14299192e+03 2.11138524e-04\n",
            " 6.11173768e+03 5.44054421e+03 4.72971811e+03 4.72971811e+03]\n",
            "Social optimum cost of this network is: 13334.304869286665\n"
          ]
        }
      ]
    },
    {
      "cell_type": "code",
      "source": [
        "omega2 = capacities * length * soflow_2 * 1/(capacities - soflow_2)**2\n",
        "print(omega2)"
      ],
      "metadata": {
        "colab": {
          "base_uri": "https://localhost:8080/"
        },
        "id": "htMAVbu6fhbg",
        "outputId": "43bfe4d8-9b9a-4dfe-ce70-5a20f2d47464"
      },
      "execution_count": null,
      "outputs": [
        {
          "output_type": "stream",
          "name": "stdout",
          "text": [
            "[1.59589471e+00 1.37804596e-01 5.61977895e-02 1.15572649e-01\n",
            " 1.15233772e+00 4.06091847e-01 1.07274603e-01 5.80095492e-02\n",
            " 2.27948103e-01 9.44380365e-03 2.68365022e-08 4.93462245e-02\n",
            " 1.10834117e-08 1.40289310e-01 4.12336826e-01 8.72013338e-02\n",
            " 6.39814624e-02 1.89873278e-02 1.42062317e-03 1.06369214e-02\n",
            " 6.82413634e-02 2.20130660e-01 5.45232943e-02 1.21628639e-09\n",
            " 3.36845020e-01 2.73819294e-01 1.77513513e-01 4.66451964e-01]\n"
          ]
        }
      ]
    },
    {
      "cell_type": "code",
      "source": [
        "f = cp.Variable(28)\n",
        "warcostf = sum(-cp.multiply(cp.multiply(length, capacities), cp.log(1 - (f/capacities))) - cp.multiply(f, length) + cp.multiply(omega2, f))\n",
        "objective = cp.Minimize(warcostf)\n",
        "constraints = [B @ f == ef, f >= 0, f <= capacities]\n",
        "prob = cp.Problem(objective, constraints)\n",
        "cost_opt = prob.solve()\n",
        "warflow2 = f.value\n",
        "print(\"Wardrop equilibrium flow:\", warflow2)\n",
        "print(f\"Wardrop equilibrium after introducing tolls: {warflow2 @ (((length/(1-(soflow_2/capacities))) - length))}\")"
      ],
      "metadata": {
        "colab": {
          "base_uri": "https://localhost:8080/"
        },
        "id": "ZWU1HXhyfq_Z",
        "outputId": "2143e56a-caec-4b12-9b6f-e3a39994357f"
      },
      "execution_count": null,
      "outputs": [
        {
          "output_type": "stream",
          "name": "stdout",
          "text": [
            "Wardrop equilibrium flow: [6.46830188e+03 5.61805542e+03 3.29755954e+03 3.29755941e+03\n",
            " 9.81369799e+03 4.50141144e+03 3.00276080e+03 2.56407263e+03\n",
            " 2.91793627e+03 8.50246455e+02 2.15010271e-04 2.32049566e+03\n",
            " 1.35062725e-04 3.29755941e+03 5.31228654e+03 2.93143717e+03\n",
            " 4.72974647e+03 2.34889709e+03 4.38688390e+02 1.96663216e+03\n",
            " 3.37012551e+03 5.33675767e+03 2.14292289e+03 4.96106051e-05\n",
            " 6.11177104e+03 5.44048230e+03 4.72974652e+03 4.72974652e+03]\n",
            "Wardrop equilibrium after introducing tolls: 13334.291726617259\n"
          ]
        }
      ]
    }
  ]
}